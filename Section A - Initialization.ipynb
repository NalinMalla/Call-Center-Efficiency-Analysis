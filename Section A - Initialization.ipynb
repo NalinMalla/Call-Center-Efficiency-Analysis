{
 "cells": [
  {
   "cell_type": "markdown",
   "metadata": {},
   "source": [
    "## Section A : Initialization"
   ]
  },
  {
   "cell_type": "markdown",
   "metadata": {},
   "source": [
    "### 1. Sample Data Restoration"
   ]
  },
  {
   "cell_type": "markdown",
   "metadata": {},
   "source": [
    "![Loading data in sqliteonline](Images/A-1.png)"
   ]
  },
  {
   "cell_type": "markdown",
   "metadata": {},
   "source": [
    "#### Loading Data in this Notebook"
   ]
  },
  {
   "cell_type": "code",
   "execution_count": 1,
   "metadata": {},
   "outputs": [],
   "source": [
    "#!pip install sqlalchemy==1.3.9\n",
    "#!pip install ipython-sql\n",
    "%load_ext sql"
   ]
  },
  {
   "cell_type": "code",
   "execution_count": 2,
   "metadata": {},
   "outputs": [],
   "source": [
    "%sql sqlite:///queue_system_sqlite3.db"
   ]
  },
  {
   "cell_type": "code",
   "execution_count": 3,
   "metadata": {},
   "outputs": [
    {
     "name": "stdout",
     "output_type": "stream",
     "text": [
      " * sqlite:///queue_system_sqlite3.db\n",
      "Done.\n"
     ]
    },
    {
     "data": {
      "text/html": [
       "<table>\n",
       "    <thead>\n",
       "        <tr>\n",
       "            <th>name</th>\n",
       "        </tr>\n",
       "    </thead>\n",
       "    <tbody>\n",
       "        <tr>\n",
       "            <td>call_statuses</td>\n",
       "        </tr>\n",
       "        <tr>\n",
       "            <td>sqlite_sequence</td>\n",
       "        </tr>\n",
       "        <tr>\n",
       "            <td>calls</td>\n",
       "        </tr>\n",
       "        <tr>\n",
       "            <td>counters</td>\n",
       "        </tr>\n",
       "        <tr>\n",
       "            <td>jobs</td>\n",
       "        </tr>\n",
       "        <tr>\n",
       "            <td>languages</td>\n",
       "        </tr>\n",
       "        <tr>\n",
       "            <td>permissions</td>\n",
       "        </tr>\n",
       "        <tr>\n",
       "            <td>queues</td>\n",
       "        </tr>\n",
       "        <tr>\n",
       "            <td>role_has_permissions</td>\n",
       "        </tr>\n",
       "        <tr>\n",
       "            <td>roles</td>\n",
       "        </tr>\n",
       "        <tr>\n",
       "            <td>services</td>\n",
       "        </tr>\n",
       "        <tr>\n",
       "            <td>users</td>\n",
       "        </tr>\n",
       "    </tbody>\n",
       "</table>"
      ],
      "text/plain": [
       "[('call_statuses',),\n",
       " ('sqlite_sequence',),\n",
       " ('calls',),\n",
       " ('counters',),\n",
       " ('jobs',),\n",
       " ('languages',),\n",
       " ('permissions',),\n",
       " ('queues',),\n",
       " ('role_has_permissions',),\n",
       " ('roles',),\n",
       " ('services',),\n",
       " ('users',)]"
      ]
     },
     "execution_count": 3,
     "metadata": {},
     "output_type": "execute_result"
    }
   ],
   "source": [
    "%%sql\n",
    "SELECT name FROM sqlite_master WHERE type='table'"
   ]
  },
  {
   "cell_type": "markdown",
   "metadata": {},
   "source": [
    "### 2. Table definition and their relation"
   ]
  },
  {
   "cell_type": "markdown",
   "metadata": {},
   "source": [
    "#### Tables Definition:"
   ]
  },
  {
   "cell_type": "markdown",
   "metadata": {},
   "source": [
    "1. **call_statuses**\n",
    "   - `id` (integer) - NOT NULL, PRIMARY KEY, AUTOINCREMENT\n",
    "   - `name` (varchar(191)) - NOT NULL; Status of the call i.e. `served` or `no show`.\n",
    "   - `created_at` (timestamp) - DEFAULT NULL; Timestamp when the entry was created\n",
    "   - `updated_at` (timestamp) - DEFAULT NULL; Timestamp when the entry was last updated\n",
    "\t\n",
    "2. **calls**\n",
    "   - `id` (integer) - NOT NULL, PRIMARY KEY, AUTOINCREMENT\n",
    "   - `queue_id` (integer) - NOT NULL; Foreign key referencing `queues(id)`\n",
    "   - `service_id` (integer) - NOT NULL; Foreign key referencing `services(id)`\n",
    "   - `counter_id` (integer) - NOT NULL; Foreign key referencing `counters(id)`\n",
    "   - `user_id` (integer) - NOT NULL; Foreign key referencing `users(id)`\n",
    "   - `token_letter` (varchar(191)) - NOT NULL; Type of service i.e. `W`, `NR`, or `T`.\n",
    "   - `token_number` (integer) - NOT NULL; Assigned token number for the call\n",
    "   - `called_date` (date) - NOT NULL; Date when call was made\n",
    "   - `started_at` (datetime) - DEFAULT current_timestamp; the data and time when the call started\n",
    "   - `ended_at` (datetime) - DEFAULT NULL; the data and time when the call started\n",
    "   - `waiting_time` (time) - DEFAULT NULL; period of time the caller waited\n",
    "   - `served_time` (time) - DEFAULT NULL; period of time the call was answered for\n",
    "   - `turn_around_time` (time) - DEFAULT NULL; total of waiting and served time\n",
    "   - `created_at` (timestamp) - DEFAULT NULL; Timestamp when the entry was created\n",
    "   - `updated_at` (timestamp) - DEFAULT NULL; Timestamp when the entry was last updated\n",
    "   - `call_status_id` (integer) - DEFAULT NULL; Foreign key referencing `call_statuses(id)`\n",
    "\n",
    "3. **counters**\n",
    "   - `id` (integer) - NOT NULL, PRIMARY KEY, AUTOINCREMENT\n",
    "   - `name` (varchar(191)) - NOT NULL; Type of `Counter 1` to `Counter 10`\n",
    "   - `status` (integer) - NOT NULL; Contains only one value i.e. `1`\n",
    "   - `created_at` (timestamp) - DEFAULT NULL; Timestamp when the entry was created\n",
    "   - `updated_at` (timestamp) - DEFAULT NULL; Timestamp when the entry was last updated\n",
    "\n",
    "  \n",
    "4. **jobs**: Empty table\n",
    "   - `id` (integer) - NOT NULL, PRIMARY KEY, AUTOINCREMENT\n",
    "   - `queue` (varchar(191)) - NOT NULL\n",
    "   - `payload` (longtext) - NOT NULL\n",
    "   - `attempts` (integer) -  NOT NULL\n",
    "   - `reserved_at` (integer) - DEFAULT NULL\n",
    "   - `available_at` (integer) - NOT NULL\n",
    "   - `created_at` (integer) - NOT NULL\n",
    "\n",
    "5. **languages**\n",
    "   - `id` (integer) - NOT NULL, PRIMARY KEY, AUTOINCREMENT\n",
    "   - `code` (varchar(191)) - NOT NULL, UNIQUE; Identification code for each language\n",
    "   - `name` (varchar(191)) - NOT NULL; Name of the language\n",
    "   - `display` (varchar(191)) - NOT NULL; Language name + gender (Except Arabic all others are female)\n",
    "   - `image` (varchar(191)) - DEFAULT NULL\n",
    "   - `created_at` (timestamp) - DEFAULT NULL; Timestamp when the entry was created\n",
    "   - `updated_at` (timestamp) - DEFAULT NULL; Timestamp when the entry was last updated\n",
    "   - `token_translation` (varchar(191)) - DEFAULT NULL; The word `Token` in various languages\n",
    "   - `please_proceed_to_translation` (varchar(191)) - DEFAULT NULL; The phrase `Please proceed to` in various languages\n",
    "\n",
    "6. **permissions**\n",
    "   - `id` (integer) - NOT NULL, PRIMARY KEY, AUTOINCREMENT\n",
    "   - `name` (varchar(191)) - NOT NULL, UNIQUE; Various type of actions which require permission\n",
    "   - `guard_name` (varchar(191)) - NOT NULL, UNIQUE; Contains only one value i.e. `web`\n",
    "   - `created_at` (timestamp) - DEFAULT NULL; Timestamp when the entry was created\n",
    "   - `updated_at` (timestamp) - DEFAULT NULL; Timestamp when the entry was last updated\n",
    "\n",
    "7. **queues**\n",
    "   - `id` (integer) - NOT NULL, PRIMARY KEY, AUTOINCREMENT\n",
    "   - `service_id` (integer) - NOT NULL; Foreign Key referencing `services(id)`\n",
    "   - `number` (integer) - NOT NULL; Queue number\n",
    "   - `called` (integer) - NOT NULL; Indicator if the queue has been called\n",
    "   - `reference_no` (varchar(191)) - NOT NULL; Reference number for the queue\n",
    "   - `letter` (varchar(191)) - NOT NULL; Letter associated with the queue\n",
    "   - `name` (varchar(191)) - DEFAULT NULL; Name of the person in the queue\n",
    "   - `email` (varchar(191)) - DEFAULT NULL; Email of the person in the queue\n",
    "   - `phone` (varchar(191)) - DEFAULT NULL; Phone number of the person in the queue\n",
    "   - `position` (integer) - DEFAULT NULL; Position in the queue\n",
    "   - `created_at` (timestamp) - DEFAULT NULL; Timestamp when the entry was created\n",
    "   - `updated_at` (timestamp) - DEFAULT NULL; Timestamp when the entry was last updated\n",
    "\n",
    "8.  **role_has_permissions**\n",
    "    - `permission_id` (integer) - NOT NULL, PRIMARY KEY; Foreign Key referencing `permissions(id)`\n",
    "    - `role_id` (integer) - NOT NULL, PRIMARY KEY; Foreign Key referencing `roles(id)` which will be updated on delete cascade\n",
    "\n",
    "9.  **roles**\n",
    "    - `id` (integer) - NOT NULL, PRIMARY KEY, AUTOINCREMENT\n",
    "    - `name` (varchar(191)) - NOT NULL, UNIQUE; Various types of roles i.e. `Admin`, `Agent`, `Super-Admin` or `Token`.\n",
    "    - `guard_name` (varchar(191)) - NOT NULL, UNIQUE; Contains only one value i.e. `web`\n",
    "    - `created_at` (timestamp) - DEFAULT NULL; Timestamp when the entry was created\n",
    "    - `updated_at` (timestamp) - DEFAULT NULL; Timestamp when the entry was last updated\n",
    "\n",
    "10. **services**\n",
    "    - `id` (integer) - NOT NULL, PRIMARY KEY, AUTOINCREMENT\n",
    "    - `name` (varchar(191)) - NOT NULL; Types of Services i.e. `WIS (W)`, `NEW REGISTRATION (NR)` and `TRAINING (T)`\n",
    "    - `letter` (varchar(191)) - NOT NULL; Short hand form of each type of services i.e. `W`, `NR` and `T`.\n",
    "    - `start_number` (integer) - NOT NULL; Contains only one value i.e. `1`\n",
    "    - `status` (integer) - NOT NULL; Contains only one value i.e. `1`\n",
    "    - `sms_enabled` (integer) - NOT NULL, DEFAULT 0; Contains only one value i.e. `0`\n",
    "    - `optin_message_enabled` (integer) - NOT NULL, DEFAULT 0; Contains only one value i.e. `0`\n",
    "    - `call_message_enabled` (integer) - NOT NULL, DEFAULT 0; Contains only one value i.e. `0`\n",
    "    - `noshow_message_enabled` (integer) - NOT NULL, DEFAULT 0; Contains only one value i.e. `0`\n",
    "    - `completed_message_enabled` (integer) - NOT NULL, DEFAULT 0; Contains only one value i.e. `0`\n",
    "    - `status_message_enabled` (integer) - NOT NULL, DEFAULT 0; Contains only one value i.e. `0`\n",
    "    - `optin_message_format` (varchar(191)) - DEFAULT NULL; Contains only one value i.e. `None`\n",
    "    - `call_message_format` (varchar(191)) - DEFAULT NULL; Contains only one value i.e. `None`\n",
    "    - `noshow_message_format` (varchar(191)) - DEFAULT NULL; Contains only one value i.e. `None`\n",
    "    - `completed_message_format` (varchar(191)) - DEFAULT NULL; Contains only one value i.e. `None`\n",
    "    - `status_message_format` (varchar(191)) - DEFAULT NULL; Contains only one value i.e. `None`\n",
    "    - `status_message_positions` (varchar(191)) - DEFAULT NULL; Contains only one value i.e. `None`\n",
    "    - `ask_name` (integer) - NOT NULL, DEFAULT 0; Contains only one value i.e. `0`\n",
    "    - `name_required` (integer) - NOT NULL, DEFAULT 0; Contains only one value i.e. `0`\n",
    "    - `ask_email` (integer) - NOT NULL, DEFAULT 0; Contains only one value i.e. `0`\n",
    "    - `email_required` (integer) - NOT NULL, DEFAULT 0; Contains only one value i.e. `0`\n",
    "    - `ask_phone` (integer) - NOT NULL, DEFAULT 0; Contains only one value i.e. `0`\n",
    "    - `phone_required` (integer) - NOT NULL, DEFAULT 0; Contains only one value i.e. `0`\n",
    "    - `created_at` (timestamp) - DEFAULT NULL; Timestamp when the entry was created\n",
    "    - `updated_at` (timestamp) - DEFAULT NULL; Timestamp when the entry was last updated\n",
    "\n",
    "11. **sqlite_sequence**\n",
    "    - `name` - DEFAULT NULL\n",
    "    - `seq` - DEFAULT NULL\n",
    "\n",
    "12. **users**\n",
    "    - `id` (integer) - NOT NULL, PRIMARY KEY, AUTOINCREMENT\n",
    "    - `name` (varchar(191)) - NOT NULL; Name of systems user\n",
    "    - `email` (varchar(191)) - NOT NULL, UNIQUE; Email of systems user\n",
    "    - `email_verified_at` timestamp DEFAULT NULL\n",
    "    - `password` (varchar(191)) - NOT NULL; Encrypted password\n",
    "    - `remember_token` (varchar(100)) - DEFAULT NULL\n",
    "    - `created_at` (timestamp) - DEFAULT NULL; Timestamp when the entry was created\n",
    "    - `updated_at` (timestamp) - DEFAULT NULL; Timestamp when the entry was last updated\n",
    "    - `image` (varchar(191)) - DEFAULT NULL; Path to image file"
   ]
  },
  {
   "cell_type": "markdown",
   "metadata": {},
   "source": [
    "#### Tables Relationships:"
   ]
  },
  {
   "cell_type": "markdown",
   "metadata": {},
   "source": [
    "1. **calls & queues (Many to 1 relation) :** Linked by `queue_id` in the `calls` table referencing `queues(id)`.\n",
    "2. **calls & services (Many to 1 relation) :** Linked by `service_id` in the `calls` table referencing `services(id)`.\n",
    "3. **calls & counters (Many to 1 relation) :** Linked by `counter_id` in the `calls` table referencing `counters(id)`.\n",
    "4. **calls & users (Many to 1 relation) :** Linked by `user_id` in the `calls` table referencing `users(id)`.\n",
    "5. **calls & call_statuses (Many to 0/1 relation) :** Linked by `call_status_id` in the `calls` table referencing `call_statuses(id)`.\n",
    "6. **queues & services (Many to 1 relation) :** Linked by `service_id` in the `queues` table referencing `services(id)`.\n",
    "7. **roles & permissions (1 to 1 relation) :** Linked by `role_id` and `permission_id` in the `role_has_permissions` table referencing `roles(id)` and `permissions(id)`, respectively."
   ]
  },
  {
   "cell_type": "markdown",
   "metadata": {},
   "source": [
    "#### SQL Query:"
   ]
  },
  {
   "cell_type": "code",
   "execution_count": 4,
   "metadata": {},
   "outputs": [
    {
     "name": "stdout",
     "output_type": "stream",
     "text": [
      " * sqlite:///queue_system_sqlite3.db\n",
      "Done.\n"
     ]
    },
    {
     "data": {
      "text/html": [
       "<table>\n",
       "    <thead>\n",
       "        <tr>\n",
       "            <th>name</th>\n",
       "            <th>sql</th>\n",
       "        </tr>\n",
       "    </thead>\n",
       "    <tbody>\n",
       "        <tr>\n",
       "            <td>call_statuses</td>\n",
       "            <td>CREATE TABLE `call_statuses` (<br>  `id` integer  NOT NULL PRIMARY KEY AUTOINCREMENT<br>,  `name` varchar(191) NOT NULL<br>,  `created_at` timestamp NULL DEFAULT NULL<br>,  `updated_at` timestamp NULL DEFAULT NULL<br>)</td>\n",
       "        </tr>\n",
       "        <tr>\n",
       "            <td>calls</td>\n",
       "            <td>CREATE TABLE `calls` (<br>  `id` integer  NOT NULL PRIMARY KEY AUTOINCREMENT<br>,  `queue_id` integer  NOT NULL<br>,  `service_id` integer  NOT NULL<br>,  `counter_id` integer  NOT NULL<br>,  `user_id` integer  NOT NULL<br>,  `token_letter` varchar(191) NOT NULL<br>,  `token_number` integer NOT NULL<br>,  `called_date` date NOT NULL<br>,  `started_at` datetime DEFAULT current_timestamp<br>,  `ended_at` datetime DEFAULT NULL<br>,  `waiting_time` time DEFAULT NULL<br>,  `served_time` time DEFAULT NULL<br>,  `turn_around_time` time DEFAULT NULL<br>,  `created_at` timestamp NULL DEFAULT NULL<br>,  `updated_at` timestamp NULL DEFAULT NULL<br>,  `call_status_id` integer  DEFAULT NULL<br>,  CONSTRAINT `calls_call_status_id_foreign` FOREIGN KEY (`call_status_id`) REFERENCES `call_statuses` (`id`)<br>,  CONSTRAINT `calls_counter_id_foreign` FOREIGN KEY (`counter_id`) REFERENCES `counters` (`id`)<br>,  CONSTRAINT `calls_queue_id_foreign` FOREIGN KEY (`queue_id`) REFERENCES `queues` (`id`)<br>,  CONSTRAINT `calls_service_id_foreign` FOREIGN KEY (`service_id`) REFERENCES `services` (`id`)<br>,  CONSTRAINT `calls_user_id_foreign` FOREIGN KEY (`user_id`) REFERENCES `users` (`id`)<br>)</td>\n",
       "        </tr>\n",
       "        <tr>\n",
       "            <td>counters</td>\n",
       "            <td>CREATE TABLE `counters` (<br>  `id` integer  NOT NULL PRIMARY KEY AUTOINCREMENT<br>,  `name` varchar(191) NOT NULL<br>,  `status` integer NOT NULL<br>,  `created_at` timestamp NULL DEFAULT NULL<br>,  `updated_at` timestamp NULL DEFAULT NULL<br>)</td>\n",
       "        </tr>\n",
       "        <tr>\n",
       "            <td>jobs</td>\n",
       "            <td>CREATE TABLE `jobs` (<br>  `id` integer  NOT NULL PRIMARY KEY AUTOINCREMENT<br>,  `queue` varchar(191) NOT NULL<br>,  `payload` longtext NOT NULL<br>,  `attempts` integer  NOT NULL<br>,  `reserved_at` integer  DEFAULT NULL<br>,  `available_at` integer  NOT NULL<br>,  `created_at` integer  NOT NULL<br>)</td>\n",
       "        </tr>\n",
       "        <tr>\n",
       "            <td>languages</td>\n",
       "            <td>CREATE TABLE `languages` (<br>  `id` integer  NOT NULL PRIMARY KEY AUTOINCREMENT<br>,  `code` varchar(191) NOT NULL<br>,  `name` varchar(191) NOT NULL<br>,  `display` varchar(191) NOT NULL<br>,  `image` varchar(191) DEFAULT NULL<br>,  `created_at` timestamp NULL DEFAULT NULL<br>,  `updated_at` timestamp NULL DEFAULT NULL<br>,  `token_translation` varchar(191) DEFAULT NULL<br>,  `please_proceed_to_translation` varchar(191) DEFAULT NULL<br>,  UNIQUE (`code`)<br>)</td>\n",
       "        </tr>\n",
       "        <tr>\n",
       "            <td>permissions</td>\n",
       "            <td>CREATE TABLE `permissions` (<br>  `id` integer  NOT NULL PRIMARY KEY AUTOINCREMENT<br>,  `name` varchar(191) NOT NULL<br>,  `guard_name` varchar(191) NOT NULL<br>,  `created_at` timestamp NULL DEFAULT NULL<br>,  `updated_at` timestamp NULL DEFAULT NULL<br>,  UNIQUE (`name`,`guard_name`)<br>)</td>\n",
       "        </tr>\n",
       "        <tr>\n",
       "            <td>queues</td>\n",
       "            <td>CREATE TABLE `queues` (<br>  `id` integer  NOT NULL PRIMARY KEY AUTOINCREMENT<br>,  `service_id` integer  NOT NULL<br>,  `number` integer NOT NULL<br>,  `called` integer NOT NULL<br>,  `reference_no` varchar(191) NOT NULL<br>,  `letter` varchar(191) NOT NULL<br>,  `name` varchar(191) DEFAULT NULL<br>,  `email` varchar(191) DEFAULT NULL<br>,  `phone` varchar(191) DEFAULT NULL<br>,  `position` integer DEFAULT NULL<br>,  `created_at` timestamp NULL DEFAULT NULL<br>,  `updated_at` timestamp NULL DEFAULT NULL<br>,  CONSTRAINT `queues_service_id_foreign` FOREIGN KEY (`service_id`) REFERENCES `services` (`id`)<br>)</td>\n",
       "        </tr>\n",
       "        <tr>\n",
       "            <td>role_has_permissions</td>\n",
       "            <td>CREATE TABLE `role_has_permissions` (<br>  `permission_id` integer  NOT NULL<br>,  `role_id` integer  NOT NULL<br>,  PRIMARY KEY (`permission_id`,`role_id`)<br>,  CONSTRAINT `role_has_permissions_permission_id_foreign` FOREIGN KEY (`permission_id`) REFERENCES `permissions` (`id`) ON DELETE CASCADE<br>,  CONSTRAINT `role_has_permissions_role_id_foreign` FOREIGN KEY (`role_id`) REFERENCES `roles` (`id`) ON DELETE CASCADE<br>)</td>\n",
       "        </tr>\n",
       "        <tr>\n",
       "            <td>roles</td>\n",
       "            <td>CREATE TABLE `roles` (<br>  `id` integer  NOT NULL PRIMARY KEY AUTOINCREMENT<br>,  `name` varchar(191) NOT NULL<br>,  `guard_name` varchar(191) NOT NULL<br>,  `created_at` timestamp NULL DEFAULT NULL<br>,  `updated_at` timestamp NULL DEFAULT NULL<br>,  UNIQUE (`name`,`guard_name`)<br>)</td>\n",
       "        </tr>\n",
       "        <tr>\n",
       "            <td>services</td>\n",
       "            <td>CREATE TABLE `services` (<br>  `id` integer  NOT NULL PRIMARY KEY AUTOINCREMENT<br>,  `name` varchar(191) NOT NULL<br>,  `letter` varchar(191) NOT NULL<br>,  `start_number` integer NOT NULL<br>,  `status` integer NOT NULL<br>,  `sms_enabled` integer NOT NULL DEFAULT 0<br>,  `optin_message_enabled` integer NOT NULL DEFAULT 0<br>,  `call_message_enabled` integer NOT NULL DEFAULT 0<br>,  `noshow_message_enabled` integer NOT NULL DEFAULT 0<br>,  `completed_message_enabled` integer NOT NULL DEFAULT 0<br>,  `status_message_enabled` integer NOT NULL DEFAULT 0<br>,  `optin_message_format` varchar(191) DEFAULT NULL<br>,  `call_message_format` varchar(191) DEFAULT NULL<br>,  `noshow_message_format` varchar(191) DEFAULT NULL<br>,  `completed_message_format` varchar(191) DEFAULT NULL<br>,  `status_message_format` varchar(191) DEFAULT NULL<br>,  `status_message_positions` varchar(191) DEFAULT NULL<br>,  `ask_name` integer NOT NULL DEFAULT 0<br>,  `name_required` integer NOT NULL DEFAULT 0<br>,  `ask_email` integer NOT NULL DEFAULT 0<br>,  `email_required` integer NOT NULL DEFAULT 0<br>,  `ask_phone` integer NOT NULL DEFAULT 0<br>,  `phone_required` integer NOT NULL DEFAULT 0<br>,  `created_at` timestamp NULL DEFAULT NULL<br>,  `updated_at` timestamp NULL DEFAULT NULL<br>)</td>\n",
       "        </tr>\n",
       "        <tr>\n",
       "            <td>sqlite_sequence</td>\n",
       "            <td>CREATE TABLE sqlite_sequence(name,seq)</td>\n",
       "        </tr>\n",
       "        <tr>\n",
       "            <td>users</td>\n",
       "            <td>CREATE TABLE `users` (<br>  `id` integer  NOT NULL PRIMARY KEY AUTOINCREMENT<br>,  `name` varchar(191) NOT NULL<br>,  `email` varchar(191) NOT NULL<br>,  `email_verified_at` timestamp NULL DEFAULT NULL<br>,  `password` varchar(191) NOT NULL<br>,  `remember_token` varchar(100) DEFAULT NULL<br>,  `created_at` timestamp NULL DEFAULT NULL<br>,  `updated_at` timestamp NULL DEFAULT NULL<br>,  `image` varchar(191) DEFAULT NULL<br>,  UNIQUE (`email`)<br>)</td>\n",
       "        </tr>\n",
       "    </tbody>\n",
       "</table>"
      ],
      "text/plain": [
       "[('call_statuses', 'CREATE TABLE `call_statuses` (\\n  `id` integer  NOT NULL PRIMARY KEY AUTOINCREMENT\\n,  `name` varchar(191) NOT NULL\\n,  `created_at` timestamp NULL DEFAULT NULL\\n,  `updated_at` timestamp NULL DEFAULT NULL\\n)'),\n",
       " ('calls', 'CREATE TABLE `calls` (\\n  `id` integer  NOT NULL PRIMARY KEY AUTOINCREMENT\\n,  `queue_id` integer  NOT NULL\\n,  `service_id` integer  NOT NULL\\n,  `c ... (847 characters truncated) ... ` FOREIGN KEY (`service_id`) REFERENCES `services` (`id`)\\n,  CONSTRAINT `calls_user_id_foreign` FOREIGN KEY (`user_id`) REFERENCES `users` (`id`)\\n)'),\n",
       " ('counters', 'CREATE TABLE `counters` (\\n  `id` integer  NOT NULL PRIMARY KEY AUTOINCREMENT\\n,  `name` varchar(191) NOT NULL\\n,  `status` integer NOT NULL\\n,  `created_at` timestamp NULL DEFAULT NULL\\n,  `updated_at` timestamp NULL DEFAULT NULL\\n)'),\n",
       " ('jobs', 'CREATE TABLE `jobs` (\\n  `id` integer  NOT NULL PRIMARY KEY AUTOINCREMENT\\n,  `queue` varchar(191) NOT NULL\\n,  `payload` longtext NOT NULL\\n,  `attempts` integer  NOT NULL\\n,  `reserved_at` integer  DEFAULT NULL\\n,  `available_at` integer  NOT NULL\\n,  `created_at` integer  NOT NULL\\n)'),\n",
       " ('languages', 'CREATE TABLE `languages` (\\n  `id` integer  NOT NULL PRIMARY KEY AUTOINCREMENT\\n,  `code` varchar(191) NOT NULL\\n,  `name` varchar(191) NOT NULL\\n,   ... (145 characters truncated) ... L DEFAULT NULL\\n,  `token_translation` varchar(191) DEFAULT NULL\\n,  `please_proceed_to_translation` varchar(191) DEFAULT NULL\\n,  UNIQUE (`code`)\\n)'),\n",
       " ('permissions', 'CREATE TABLE `permissions` (\\n  `id` integer  NOT NULL PRIMARY KEY AUTOINCREMENT\\n,  `name` varchar(191) NOT NULL\\n,  `guard_name` varchar(191) NOT NULL\\n,  `created_at` timestamp NULL DEFAULT NULL\\n,  `updated_at` timestamp NULL DEFAULT NULL\\n,  UNIQUE (`name`,`guard_name`)\\n)'),\n",
       " ('queues', 'CREATE TABLE `queues` (\\n  `id` integer  NOT NULL PRIMARY KEY AUTOINCREMENT\\n,  `service_id` integer  NOT NULL\\n,  `number` integer NOT NULL\\n,  `cal ... (289 characters truncated) ... LL\\n,  `updated_at` timestamp NULL DEFAULT NULL\\n,  CONSTRAINT `queues_service_id_foreign` FOREIGN KEY (`service_id`) REFERENCES `services` (`id`)\\n)'),\n",
       " ('role_has_permissions', 'CREATE TABLE `role_has_permissions` (\\n  `permission_id` integer  NOT NULL\\n,  `role_id` integer  NOT NULL\\n,  PRIMARY KEY (`permission_id`,`role_id` ... (117 characters truncated) ... (`id`) ON DELETE CASCADE\\n,  CONSTRAINT `role_has_permissions_role_id_foreign` FOREIGN KEY (`role_id`) REFERENCES `roles` (`id`) ON DELETE CASCADE\\n)'),\n",
       " ('roles', 'CREATE TABLE `roles` (\\n  `id` integer  NOT NULL PRIMARY KEY AUTOINCREMENT\\n,  `name` varchar(191) NOT NULL\\n,  `guard_name` varchar(191) NOT NULL\\n,  `created_at` timestamp NULL DEFAULT NULL\\n,  `updated_at` timestamp NULL DEFAULT NULL\\n,  UNIQUE (`name`,`guard_name`)\\n)'),\n",
       " ('services', 'CREATE TABLE `services` (\\n  `id` integer  NOT NULL PRIMARY KEY AUTOINCREMENT\\n,  `name` varchar(191) NOT NULL\\n,  `letter` varchar(191) NOT NULL\\n,  ... (929 characters truncated) ... EFAULT 0\\n,  `phone_required` integer NOT NULL DEFAULT 0\\n,  `created_at` timestamp NULL DEFAULT NULL\\n,  `updated_at` timestamp NULL DEFAULT NULL\\n)'),\n",
       " ('sqlite_sequence', 'CREATE TABLE sqlite_sequence(name,seq)'),\n",
       " ('users', 'CREATE TABLE `users` (\\n  `id` integer  NOT NULL PRIMARY KEY AUTOINCREMENT\\n,  `name` varchar(191) NOT NULL\\n,  `email` varchar(191) NOT NULL\\n,  `em ... (131 characters truncated) ...   `created_at` timestamp NULL DEFAULT NULL\\n,  `updated_at` timestamp NULL DEFAULT NULL\\n,  `image` varchar(191) DEFAULT NULL\\n,  UNIQUE (`email`)\\n)')]"
      ]
     },
     "execution_count": 4,
     "metadata": {},
     "output_type": "execute_result"
    }
   ],
   "source": [
    "%%sql\n",
    "SELECT name, sql FROM sqlite_master WHERE type = 'table' ORDER BY name;"
   ]
  },
  {
   "cell_type": "code",
   "execution_count": 5,
   "metadata": {},
   "outputs": [
    {
     "name": "stdout",
     "output_type": "stream",
     "text": [
      " * sqlite:///queue_system_sqlite3.db\n",
      "Done.\n"
     ]
    },
    {
     "data": {
      "text/html": [
       "<table>\n",
       "    <thead>\n",
       "        <tr>\n",
       "            <th>id</th>\n",
       "            <th>name</th>\n",
       "            <th>letter</th>\n",
       "            <th>start_number</th>\n",
       "            <th>status</th>\n",
       "            <th>sms_enabled</th>\n",
       "            <th>optin_message_enabled</th>\n",
       "            <th>call_message_enabled</th>\n",
       "            <th>noshow_message_enabled</th>\n",
       "            <th>completed_message_enabled</th>\n",
       "            <th>status_message_enabled</th>\n",
       "            <th>optin_message_format</th>\n",
       "            <th>call_message_format</th>\n",
       "            <th>noshow_message_format</th>\n",
       "            <th>completed_message_format</th>\n",
       "            <th>status_message_format</th>\n",
       "            <th>status_message_positions</th>\n",
       "            <th>ask_name</th>\n",
       "            <th>name_required</th>\n",
       "            <th>ask_email</th>\n",
       "            <th>email_required</th>\n",
       "            <th>ask_phone</th>\n",
       "            <th>phone_required</th>\n",
       "            <th>created_at</th>\n",
       "            <th>updated_at</th>\n",
       "        </tr>\n",
       "    </thead>\n",
       "    <tbody>\n",
       "        <tr>\n",
       "            <td>1</td>\n",
       "            <td>WIS (W)</td>\n",
       "            <td>W</td>\n",
       "            <td>1</td>\n",
       "            <td>1</td>\n",
       "            <td>0</td>\n",
       "            <td>0</td>\n",
       "            <td>0</td>\n",
       "            <td>0</td>\n",
       "            <td>0</td>\n",
       "            <td>0</td>\n",
       "            <td>None</td>\n",
       "            <td>None</td>\n",
       "            <td>None</td>\n",
       "            <td>None</td>\n",
       "            <td>None</td>\n",
       "            <td>None</td>\n",
       "            <td>0</td>\n",
       "            <td>0</td>\n",
       "            <td>0</td>\n",
       "            <td>0</td>\n",
       "            <td>0</td>\n",
       "            <td>0</td>\n",
       "            <td>2024-01-23 10:29:32</td>\n",
       "            <td>2024-01-23 10:29:32</td>\n",
       "        </tr>\n",
       "        <tr>\n",
       "            <td>2</td>\n",
       "            <td>NEW REGISTRATION (NR)</td>\n",
       "            <td>NR</td>\n",
       "            <td>1</td>\n",
       "            <td>1</td>\n",
       "            <td>0</td>\n",
       "            <td>0</td>\n",
       "            <td>0</td>\n",
       "            <td>0</td>\n",
       "            <td>0</td>\n",
       "            <td>0</td>\n",
       "            <td>None</td>\n",
       "            <td>None</td>\n",
       "            <td>None</td>\n",
       "            <td>None</td>\n",
       "            <td>None</td>\n",
       "            <td>None</td>\n",
       "            <td>0</td>\n",
       "            <td>0</td>\n",
       "            <td>0</td>\n",
       "            <td>0</td>\n",
       "            <td>0</td>\n",
       "            <td>0</td>\n",
       "            <td>2024-01-23 10:30:10</td>\n",
       "            <td>2024-01-23 10:34:26</td>\n",
       "        </tr>\n",
       "        <tr>\n",
       "            <td>3</td>\n",
       "            <td>TRAINING (T)</td>\n",
       "            <td>T</td>\n",
       "            <td>1</td>\n",
       "            <td>1</td>\n",
       "            <td>0</td>\n",
       "            <td>0</td>\n",
       "            <td>0</td>\n",
       "            <td>0</td>\n",
       "            <td>0</td>\n",
       "            <td>0</td>\n",
       "            <td>None</td>\n",
       "            <td>None</td>\n",
       "            <td>None</td>\n",
       "            <td>None</td>\n",
       "            <td>None</td>\n",
       "            <td>None</td>\n",
       "            <td>0</td>\n",
       "            <td>0</td>\n",
       "            <td>0</td>\n",
       "            <td>0</td>\n",
       "            <td>0</td>\n",
       "            <td>0</td>\n",
       "            <td>2024-01-23 10:31:10</td>\n",
       "            <td>2024-01-23 10:31:10</td>\n",
       "        </tr>\n",
       "    </tbody>\n",
       "</table>"
      ],
      "text/plain": [
       "[(1, 'WIS (W)', 'W', 1, 1, 0, 0, 0, 0, 0, 0, None, None, None, None, None, None, 0, 0, 0, 0, 0, 0, '2024-01-23 10:29:32', '2024-01-23 10:29:32'),\n",
       " (2, 'NEW REGISTRATION (NR)', 'NR', 1, 1, 0, 0, 0, 0, 0, 0, None, None, None, None, None, None, 0, 0, 0, 0, 0, 0, '2024-01-23 10:30:10', '2024-01-23 10:34:26'),\n",
       " (3, 'TRAINING (T)', 'T', 1, 1, 0, 0, 0, 0, 0, 0, None, None, None, None, None, None, 0, 0, 0, 0, 0, 0, '2024-01-23 10:31:10', '2024-01-23 10:31:10')]"
      ]
     },
     "execution_count": 5,
     "metadata": {},
     "output_type": "execute_result"
    }
   ],
   "source": [
    "%%sql\n",
    "SELECT * FROM services"
   ]
  }
 ],
 "metadata": {
  "kernelspec": {
   "display_name": "Python 3",
   "language": "python",
   "name": "python3"
  },
  "language_info": {
   "codemirror_mode": {
    "name": "ipython",
    "version": 3
   },
   "file_extension": ".py",
   "mimetype": "text/x-python",
   "name": "python",
   "nbconvert_exporter": "python",
   "pygments_lexer": "ipython3",
   "version": "3.12.2"
  }
 },
 "nbformat": 4,
 "nbformat_minor": 2
}
